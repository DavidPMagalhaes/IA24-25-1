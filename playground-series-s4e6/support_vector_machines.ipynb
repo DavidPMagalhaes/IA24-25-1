{
 "cells": [
  {
   "cell_type": "code",
   "execution_count": 2,
   "id": "5cbbf906",
   "metadata": {},
   "outputs": [
    {
     "name": "stdout",
     "output_type": "stream",
     "text": [
      "Validation Accuracy: 0.8200470465237847\n",
      "\n",
      "Classification Report:\n",
      "               precision    recall  f1-score   support\n",
      "\n",
      "     Dropout       0.91      0.80      0.85      5028\n",
      "    Enrolled       0.63      0.57      0.60      3017\n",
      "    Graduate       0.83      0.94      0.88      7259\n",
      "\n",
      "    accuracy                           0.82     15304\n",
      "   macro avg       0.79      0.77      0.78     15304\n",
      "weighted avg       0.82      0.82      0.82     15304\n",
      "\n",
      "Submission saved as 'svm_submission.csv'\n"
     ]
    }
   ],
   "source": [
    "import pandas as pd\n",
    "from sklearn.model_selection import train_test_split\n",
    "from sklearn.preprocessing import StandardScaler, LabelEncoder\n",
    "from sklearn.svm import SVC\n",
    "from sklearn.metrics import classification_report, accuracy_score\n",
    "\n",
    "# Load the training data\n",
    "train_df = pd.read_csv('train.csv')\n",
    "\n",
    "# Drop 'id' and separate features/target\n",
    "X = train_df.drop(columns=['id', 'Target'])\n",
    "y = train_df['Target']\n",
    "\n",
    "# Encode target labels\n",
    "le = LabelEncoder()\n",
    "y_encoded = le.fit_transform(y)\n",
    "\n",
    "# Split into training and validation sets\n",
    "X_train, X_val, y_train, y_val = train_test_split(X, y_encoded, test_size=0.2, random_state=42)\n",
    "\n",
    "# Feature scaling is important for SVM\n",
    "scaler = StandardScaler()\n",
    "X_train_scaled = scaler.fit_transform(X_train)\n",
    "X_val_scaled = scaler.transform(X_val)\n",
    "\n",
    "# Train SVM classifier\n",
    "svm_model = SVC(kernel='rbf', random_state=42)  # You can try 'linear', 'poly', etc.\n",
    "svm_model.fit(X_train_scaled, y_train)\n",
    "\n",
    "# Predict and evaluate\n",
    "y_pred = svm_model.predict(X_val_scaled)\n",
    "print(\"Validation Accuracy:\", accuracy_score(y_val, y_pred))\n",
    "print(\"\\nClassification Report:\\n\", classification_report(y_val, y_pred, target_names=le.classes_))\n",
    "\n",
    "# Load test and sample submission files\n",
    "test_df = pd.read_csv('test.csv')\n",
    "submission_df = pd.read_csv('sample_submission.csv')\n",
    "\n",
    "# Prepare test features\n",
    "X_test = test_df.drop(columns=['id'])\n",
    "X_test_scaled = scaler.transform(X_test)\n",
    "\n",
    "# Predict\n",
    "test_preds_encoded = svm_model.predict(X_test_scaled)\n",
    "test_preds = le.inverse_transform(test_preds_encoded)\n",
    "\n",
    "# Prepare submission\n",
    "submission_df['Target'] = test_preds\n",
    "submission_df.to_csv('svm_submission.csv', index=False)\n",
    "print(\"Submission saved as 'svm_submission.csv'\")\n"
   ]
  }
 ],
 "metadata": {
  "kernelspec": {
   "display_name": "base",
   "language": "python",
   "name": "python3"
  },
  "language_info": {
   "codemirror_mode": {
    "name": "ipython",
    "version": 3
   },
   "file_extension": ".py",
   "mimetype": "text/x-python",
   "name": "python",
   "nbconvert_exporter": "python",
   "pygments_lexer": "ipython3",
   "version": "3.12.7"
  }
 },
 "nbformat": 4,
 "nbformat_minor": 5
}
