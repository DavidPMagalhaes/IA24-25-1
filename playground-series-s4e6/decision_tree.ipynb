{
 "cells": [
  {
   "cell_type": "code",
   "execution_count": 2,
   "id": "fb277993",
   "metadata": {},
   "outputs": [
    {
     "name": "stdout",
     "output_type": "stream",
     "text": [
      "Validation Accuracy: 0.742093570308416\n",
      "\n",
      "Classification Report:\n",
      "               precision    recall  f1-score   support\n",
      "\n",
      "     Dropout       0.78      0.79      0.79      5028\n",
      "    Enrolled       0.48      0.48      0.48      3017\n",
      "    Graduate       0.83      0.81      0.82      7259\n",
      "\n",
      "    accuracy                           0.74     15304\n",
      "   macro avg       0.70      0.70      0.70     15304\n",
      "weighted avg       0.74      0.74      0.74     15304\n",
      "\n",
      "Submission saved as 'decision_tree_submission.csv'\n"
     ]
    }
   ],
   "source": [
    "import pandas as pd\n",
    "from sklearn.model_selection import train_test_split\n",
    "from sklearn.tree import DecisionTreeClassifier\n",
    "from sklearn.metrics import classification_report, accuracy_score\n",
    "\n",
    "# Load data\n",
    "train_df = pd.read_csv('train.csv')\n",
    "\n",
    "# Drop 'id' and separate features/target\n",
    "X = train_df.drop(columns=['id', 'Target'])\n",
    "y = train_df['Target']\n",
    "\n",
    "# Optional: Encode categorical features if needed (none here except 'Target')\n",
    "# If Target is categorical (object), encode it\n",
    "from sklearn.preprocessing import LabelEncoder\n",
    "le = LabelEncoder()\n",
    "y_encoded = le.fit_transform(y)\n",
    "\n",
    "# Split into train/validation sets\n",
    "X_train, X_val, y_train, y_val = train_test_split(X, y_encoded, test_size=0.2, random_state=42)\n",
    "\n",
    "# Train Decision Tree\n",
    "clf = DecisionTreeClassifier(random_state=42)\n",
    "clf.fit(X_train, y_train)\n",
    "\n",
    "# Evaluate\n",
    "y_pred = clf.predict(X_val)\n",
    "print(\"Validation Accuracy:\", accuracy_score(y_val, y_pred))\n",
    "print(\"\\nClassification Report:\\n\", classification_report(y_val, y_pred, target_names=le.classes_))\n",
    "\n",
    "# Load test set and sample submission\n",
    "test_df = pd.read_csv('test.csv')\n",
    "submission_df = pd.read_csv('sample_submission.csv')\n",
    "\n",
    "# Drop 'id' and use same features as train\n",
    "X_test = test_df.drop(columns=['id'])\n",
    "\n",
    "# Predict\n",
    "test_preds_encoded = clf.predict(X_test)\n",
    "test_preds = le.inverse_transform(test_preds_encoded)\n",
    "\n",
    "# Prepare submission\n",
    "submission_df['Target'] = test_preds\n",
    "submission_df.to_csv('decision_tree_submission.csv', index=False)\n",
    "print(\"Submission saved as 'decision_tree_submission.csv'\")\n"
   ]
  }
 ],
 "metadata": {
  "kernelspec": {
   "display_name": "base",
   "language": "python",
   "name": "python3"
  },
  "language_info": {
   "codemirror_mode": {
    "name": "ipython",
    "version": 3
   },
   "file_extension": ".py",
   "mimetype": "text/x-python",
   "name": "python",
   "nbconvert_exporter": "python",
   "pygments_lexer": "ipython3",
   "version": "3.12.7"
  }
 },
 "nbformat": 4,
 "nbformat_minor": 5
}
