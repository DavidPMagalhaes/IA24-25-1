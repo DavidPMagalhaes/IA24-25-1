{
 "cells": [
  {
   "cell_type": "code",
   "execution_count": 1,
   "id": "f8b1e7ac",
   "metadata": {},
   "outputs": [
    {
     "name": "stdout",
     "output_type": "stream",
     "text": [
      "Validation Accuracy: 0.7786199686356509\n",
      "\n",
      "Classification Report:\n",
      "               precision    recall  f1-score   support\n",
      "\n",
      "     Dropout       0.84      0.80      0.82      5028\n",
      "    Enrolled       0.55      0.48      0.51      3017\n",
      "    Graduate       0.82      0.89      0.85      7259\n",
      "\n",
      "    accuracy                           0.78     15304\n",
      "   macro avg       0.74      0.72      0.73     15304\n",
      "weighted avg       0.77      0.78      0.77     15304\n",
      "\n",
      "Submission saved as 'knn_submission.csv'\n"
     ]
    }
   ],
   "source": [
    "import pandas as pd\n",
    "from sklearn.model_selection import train_test_split\n",
    "from sklearn.preprocessing import StandardScaler, LabelEncoder\n",
    "from sklearn.neighbors import KNeighborsClassifier\n",
    "from sklearn.metrics import classification_report, accuracy_score\n",
    "\n",
    "# Load the dataset\n",
    "train_df = pd.read_csv('train.csv')\n",
    "\n",
    "# Drop 'id' and split features/target\n",
    "X = train_df.drop(columns=['id', 'Target'])\n",
    "y = train_df['Target']\n",
    "\n",
    "# Encode categorical target labels\n",
    "le = LabelEncoder()\n",
    "y_encoded = le.fit_transform(y)\n",
    "\n",
    "# Split into train/validation\n",
    "X_train, X_val, y_train, y_val = train_test_split(X, y_encoded, test_size=0.2, random_state=42)\n",
    "\n",
    "# Scale features (important for k-NN!)\n",
    "scaler = StandardScaler()\n",
    "X_train_scaled = scaler.fit_transform(X_train)\n",
    "X_val_scaled = scaler.transform(X_val)\n",
    "\n",
    "# Train k-NN classifier\n",
    "knn = KNeighborsClassifier(n_neighbors=5)  # you can tune n_neighbors\n",
    "knn.fit(X_train_scaled, y_train)\n",
    "\n",
    "# Predict and evaluate\n",
    "y_pred = knn.predict(X_val_scaled)\n",
    "print(\"Validation Accuracy:\", accuracy_score(y_val, y_pred))\n",
    "print(\"\\nClassification Report:\\n\", classification_report(y_val, y_pred, target_names=le.classes_))\n",
    "\n",
    "# Load test set and sample submission\n",
    "test_df = pd.read_csv('test.csv')\n",
    "submission_df = pd.read_csv('sample_submission.csv')\n",
    "\n",
    "# Drop 'id' and scale features\n",
    "X_test = test_df.drop(columns=['id'])\n",
    "X_test_scaled = scaler.transform(X_test)\n",
    "\n",
    "# Predict on test data\n",
    "test_preds_encoded = knn.predict(X_test_scaled)\n",
    "test_preds = le.inverse_transform(test_preds_encoded)\n",
    "\n",
    "# Prepare submission\n",
    "submission_df['Target'] = test_preds\n",
    "submission_df.to_csv('knn_submission.csv', index=False)\n",
    "print(\"Submission saved as 'knn_submission.csv'\")\n"
   ]
  }
 ],
 "metadata": {
  "kernelspec": {
   "display_name": "base",
   "language": "python",
   "name": "python3"
  },
  "language_info": {
   "codemirror_mode": {
    "name": "ipython",
    "version": 3
   },
   "file_extension": ".py",
   "mimetype": "text/x-python",
   "name": "python",
   "nbconvert_exporter": "python",
   "pygments_lexer": "ipython3",
   "version": "3.12.7"
  }
 },
 "nbformat": 4,
 "nbformat_minor": 5
}
